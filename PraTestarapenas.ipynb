{
 "cells": [
  {
   "cell_type": "code",
   "execution_count": 1,
   "metadata": {
    "collapsed": true
   },
   "outputs": [],
   "source": [
    "temperatura = 25 "
   ]
  },
  {
   "cell_type": "code",
   "execution_count": 2,
   "metadata": {
    "collapsed": false
   },
   "outputs": [
    {
     "name": "stdout",
     "output_type": "stream",
     "text": [
      "25\n"
     ]
    }
   ],
   "source": [
    "print(temperatura)"
   ]
  },
  {
   "cell_type": "code",
   "execution_count": 3,
   "metadata": {
    "collapsed": false
   },
   "outputs": [
    {
     "name": "stdout",
     "output_type": "stream",
     "text": [
      "25\n"
     ]
    }
   ],
   "source": [
    "print(25)"
   ]
  },
  {
   "cell_type": "code",
   "execution_count": 4,
   "metadata": {
    "collapsed": true
   },
   "outputs": [],
   "source": [
    "temperatura_farh = temperatura*9/5 + 32 "
   ]
  },
  {
   "cell_type": "code",
   "execution_count": 5,
   "metadata": {
    "collapsed": false
   },
   "outputs": [
    {
     "name": "stdout",
     "output_type": "stream",
     "text": [
      "77.0\n"
     ]
    }
   ],
   "source": [
    "print(temperatura_farh)"
   ]
  },
  {
   "cell_type": "code",
   "execution_count": 6,
   "metadata": {
    "collapsed": false
   },
   "outputs": [
    {
     "data": {
      "text/plain": [
       "float"
      ]
     },
     "execution_count": 6,
     "metadata": {},
     "output_type": "execute_result"
    }
   ],
   "source": [
    "type(temperatura_farh)"
   ]
  },
  {
   "cell_type": "code",
   "execution_count": 7,
   "metadata": {
    "collapsed": false
   },
   "outputs": [
    {
     "data": {
      "text/plain": [
       "int"
      ]
     },
     "execution_count": 7,
     "metadata": {},
     "output_type": "execute_result"
    }
   ],
   "source": [
    "type(temperatura)"
   ]
  },
  {
   "cell_type": "code",
   "execution_count": 8,
   "metadata": {
    "collapsed": false
   },
   "outputs": [
    {
     "data": {
      "text/plain": [
       "float"
      ]
     },
     "execution_count": 8,
     "metadata": {},
     "output_type": "execute_result"
    }
   ],
   "source": [
    "type(temperatura_farh)"
   ]
  },
  {
   "cell_type": "code",
   "execution_count": 9,
   "metadata": {
    "collapsed": true
   },
   "outputs": [],
   "source": [
    "cidade = \"Rio De Janeiro\""
   ]
  },
  {
   "cell_type": "code",
   "execution_count": 10,
   "metadata": {
    "collapsed": false
   },
   "outputs": [
    {
     "name": "stdout",
     "output_type": "stream",
     "text": [
      "Rio De Janeiro\n"
     ]
    }
   ],
   "source": [
    "print(cidade)"
   ]
  },
  {
   "cell_type": "markdown",
   "metadata": {},
   "source": [
    "\n"
   ]
  },
  {
   "cell_type": "code",
   "execution_count": 11,
   "metadata": {
    "collapsed": true
   },
   "outputs": [],
   "source": [
    "temperaturas = [25,30,15.9]"
   ]
  },
  {
   "cell_type": "code",
   "execution_count": 12,
   "metadata": {
    "collapsed": false
   },
   "outputs": [
    {
     "name": "stdout",
     "output_type": "stream",
     "text": [
      "25\n"
     ]
    }
   ],
   "source": [
    "print(temperaturas[0])"
   ]
  },
  {
   "cell_type": "code",
   "execution_count": 13,
   "metadata": {
    "collapsed": false
   },
   "outputs": [
    {
     "name": "stdout",
     "output_type": "stream",
     "text": [
      "30\n"
     ]
    }
   ],
   "source": [
    "print(temperaturas[1])"
   ]
  },
  {
   "cell_type": "code",
   "execution_count": 14,
   "metadata": {
    "collapsed": false
   },
   "outputs": [
    {
     "data": {
      "text/plain": [
       "3"
      ]
     },
     "execution_count": 14,
     "metadata": {},
     "output_type": "execute_result"
    }
   ],
   "source": [
    "len(temperaturas)"
   ]
  },
  {
   "cell_type": "code",
   "execution_count": 15,
   "metadata": {
    "collapsed": false
   },
   "outputs": [],
   "source": [
    "valor = '10' + '5'"
   ]
  },
  {
   "cell_type": "code",
   "execution_count": 16,
   "metadata": {
    "collapsed": false
   },
   "outputs": [
    {
     "name": "stdout",
     "output_type": "stream",
     "text": [
      "105\n"
     ]
    }
   ],
   "source": [
    "print(valor)"
   ]
  },
  {
   "cell_type": "code",
   "execution_count": 17,
   "metadata": {
    "collapsed": false
   },
   "outputs": [
    {
     "name": "stdout",
     "output_type": "stream",
     "text": [
      "Help on built-in function max in module builtins:\n",
      "\n",
      "max(...)\n",
      "    max(iterable, *[, default=obj, key=func]) -> value\n",
      "    max(arg1, arg2, *args, *[, key=func]) -> value\n",
      "    \n",
      "    With a single iterable argument, return its biggest item. The\n",
      "    default keyword-only argument specifies an object to return if\n",
      "    the provided iterable is empty.\n",
      "    With two or more arguments, return the largest argument.\n",
      "\n"
     ]
    }
   ],
   "source": [
    "help(max)"
   ]
  },
  {
   "cell_type": "code",
   "execution_count": 18,
   "metadata": {
    "collapsed": false
   },
   "outputs": [],
   "source": [
    "temp_max = max(temperaturas)"
   ]
  },
  {
   "cell_type": "code",
   "execution_count": 19,
   "metadata": {
    "collapsed": false
   },
   "outputs": [
    {
     "name": "stdout",
     "output_type": "stream",
     "text": [
      "30\n"
     ]
    }
   ],
   "source": [
    "print(temp_max)"
   ]
  },
  {
   "cell_type": "code",
   "execution_count": 20,
   "metadata": {
    "collapsed": false
   },
   "outputs": [
    {
     "data": {
      "text/plain": [
       "15.9"
      ]
     },
     "execution_count": 20,
     "metadata": {},
     "output_type": "execute_result"
    }
   ],
   "source": [
    "min(temperaturas)"
   ]
  },
  {
   "cell_type": "code",
   "execution_count": 21,
   "metadata": {
    "collapsed": false
   },
   "outputs": [
    {
     "data": {
      "text/plain": [
       "15.9"
      ]
     },
     "execution_count": 21,
     "metadata": {},
     "output_type": "execute_result"
    }
   ],
   "source": [
    "abs(15.9)"
   ]
  },
  {
   "cell_type": "code",
   "execution_count": 22,
   "metadata": {
    "collapsed": true
   },
   "outputs": [],
   "source": [
    "import math"
   ]
  },
  {
   "cell_type": "code",
   "execution_count": 23,
   "metadata": {
    "collapsed": false
   },
   "outputs": [
    {
     "data": {
      "text/plain": [
       "2.0"
      ]
     },
     "execution_count": 23,
     "metadata": {},
     "output_type": "execute_result"
    }
   ],
   "source": [
    "math.sqrt(4)"
   ]
  },
  {
   "cell_type": "code",
   "execution_count": 24,
   "metadata": {
    "collapsed": true
   },
   "outputs": [],
   "source": [
    "import numpy"
   ]
  },
  {
   "cell_type": "code",
   "execution_count": 25,
   "metadata": {
    "collapsed": false
   },
   "outputs": [
    {
     "data": {
      "text/plain": [
       "array([ 25. ,  30. ,  15.9])"
      ]
     },
     "execution_count": 25,
     "metadata": {},
     "output_type": "execute_result"
    }
   ],
   "source": [
    "numpy.abs(temperaturas)"
   ]
  },
  {
   "cell_type": "code",
   "execution_count": 26,
   "metadata": {
    "collapsed": false
   },
   "outputs": [
    {
     "data": {
      "text/plain": [
       "23.633333333333336"
      ]
     },
     "execution_count": 26,
     "metadata": {},
     "output_type": "execute_result"
    }
   ],
   "source": [
    "numpy.mean(temperaturas)"
   ]
  },
  {
   "cell_type": "code",
   "execution_count": 27,
   "metadata": {
    "collapsed": false
   },
   "outputs": [],
   "source": [
    "dado = numpy.loadtxt('dados-de-mentira.cvs', delimiter =',')"
   ]
  },
  {
   "cell_type": "code",
   "execution_count": 28,
   "metadata": {
    "collapsed": false
   },
   "outputs": [
    {
     "name": "stdout",
     "output_type": "stream",
     "text": [
      "[[  0.           0.        ]\n",
      " [  0.1          0.61464164]\n",
      " [  0.2          1.0320324 ]\n",
      " [  0.3          1.1238251 ]\n",
      " [  0.4          0.87540985]\n",
      " [  0.5          0.39101585]\n",
      " [  0.6         -0.14270041]\n",
      " [  0.7         -0.52186154]\n",
      " [  0.8         -0.59659114]\n",
      " [  0.9         -0.32337174]\n",
      " [  1.           0.21975159]\n",
      " [  1.1          0.86043287]\n",
      " [  1.2          1.3922289 ]\n",
      " [  1.3          1.6467141 ]\n",
      " [  1.4          1.5523145 ]\n",
      " [  1.5          1.1593091 ]\n",
      " [  1.6          0.62226425]\n",
      " [  1.7          0.14603706]\n",
      " [  1.8         -0.08578836]\n",
      " [  1.9          0.02496595]\n",
      " [  2.           0.45677374]\n",
      " [  2.1          1.0759225 ]\n",
      " [  2.2          1.6832216 ]\n",
      " [  2.3          2.0835833 ]\n",
      " [  2.4          2.1541709 ]\n",
      " [  2.5          1.8873076 ]\n",
      " [  2.6          1.3931564 ]\n",
      " [  2.7          0.8612352 ]\n",
      " [  2.8          0.49421121]\n",
      " [  2.9          0.43710175]\n",
      " [  3.           0.72661379]\n",
      " [  3.1          1.2783195 ]\n",
      " [  3.2          1.9161477 ]\n",
      " [  3.3          2.4338889 ]\n",
      " [  3.4          2.6672284 ]\n",
      " [  3.5          2.5511447 ]\n",
      " [  3.6          2.1426217 ]\n",
      " [  3.7          1.6007407 ]\n",
      " [  3.8          1.1311076 ]\n",
      " [  3.9          0.91402652]\n",
      " [  4.           1.0415133 ]\n",
      " [  4.1          1.48515   ]\n",
      " [  4.2          2.1060103 ]\n",
      " [  4.3          2.703189  ]\n",
      " [  4.4          3.0839824 ]\n",
      " [  4.5          3.1312036 ]\n",
      " [  4.6          2.8441177 ]\n",
      " [  4.7          2.3386969 ]\n",
      " [  4.8          1.8071066 ]\n",
      " [  4.9          1.4505748 ]\n",
      " [  5.           1.4090961 ]\n",
      " [  5.1          1.7125255 ]\n",
      " [  5.2          2.2701481 ]\n",
      " [  5.3          2.902367  ]\n",
      " [  5.4          3.4034394 ]\n",
      " [  5.5          3.613348  ]\n",
      " [  5.6          3.4736972 ]\n",
      " [  5.7          3.0481116 ]\n",
      " [  5.8          2.5000081 ]\n",
      " [  5.9          2.0355084 ]\n",
      " [  6.           1.8314335 ]\n",
      " [  6.1          1.9735332 ]\n",
      " [  6.2          2.4265299 ]\n",
      " [  6.3          3.0464409 ]\n",
      " [  6.4          3.6308739 ]\n",
      " [  6.5          3.9897274 ]\n",
      " [  6.6          4.0115968 ]\n",
      " [  6.7          3.7026903 ]\n",
      " [  6.8          3.1846584 ]\n",
      " [  6.9          2.6520967 ]\n",
      " [  7.           2.3045669 ]\n",
      " [  7.1          2.2768823 ]\n",
      " [  7.2          2.5920127 ]\n",
      " [  7.3          3.153059  ]\n",
      " [  7.4          3.7771014 ]\n",
      " [  7.5          4.2590973 ]\n",
      " [  7.6          4.4435073 ]\n",
      " [  7.7          4.2786283 ]\n",
      " [  7.8          3.8346536 ]\n",
      " [  7.9          3.2791511 ]\n",
      " [  8.           2.8185258 ]\n",
      " [  8.1          2.6259153 ]\n",
      " [  8.2          2.7807066 ]\n",
      " [  8.3          3.2408029 ]\n",
      " [  8.4          3.8573278 ]\n",
      " [  8.5          4.4266312 ]\n",
      " [  8.6          4.7614286 ]\n",
      " [  8.7          4.7562241 ]\n",
      " [  8.8          4.424162  ]\n",
      " [  8.9          3.8924338 ]\n",
      " [  9.           3.3578455 ]\n",
      " [  9.1          3.0180666 ]\n",
      " [  9.2          3.0025774 ]\n",
      " [  9.3          3.3274363 ]\n",
      " [  9.4          3.8896698 ]\n",
      " [  9.5          4.5032423 ]\n",
      " [  9.6          4.9640432 ]\n",
      " [  9.7          5.1211873 ]\n",
      " [  9.8          4.9297225 ]\n",
      " [  9.9          4.4663317 ]\n",
      " [ 10.           3.9025443 ]\n",
      " [ 10.1          3.4448153 ]\n",
      " [ 10.2          3.2624035 ]\n",
      " [ 10.3          3.4282434 ]\n",
      " [ 10.4          3.8934667 ]\n",
      " [ 10.5          4.5044718 ]\n",
      " [ 10.6          5.0565811 ]\n",
      " [ 10.7          5.3655393 ]\n",
      " [ 10.8          5.3318785 ]\n",
      " [ 10.9          4.9756644 ]\n",
      " [ 11.           4.4294856 ]\n",
      " [ 11.1          3.8921364 ]\n",
      " [ 11.2          3.5591707 ]\n",
      " [ 11.3          3.5545891 ]\n",
      " [ 11.4          3.8875211 ]\n",
      " [ 11.5          4.4490349 ]\n",
      " [ 11.6          5.05019   ]\n",
      " [ 11.7          5.4880385 ]\n",
      " [ 11.8          5.6165203 ]\n",
      " [ 11.9          5.3974851 ]\n",
      " [ 12.           4.9140188 ]\n",
      " [ 12.1          4.3414187 ]\n",
      " [ 12.2          3.8859563 ]\n",
      " [ 12.3          3.7128201 ]\n",
      " [ 12.4          3.8884101 ]\n",
      " [ 12.5          4.3571415 ]\n",
      " [ 12.6          4.9608616 ]\n",
      " [ 12.7          5.4940968 ]\n",
      " [ 12.8          5.7758294 ]\n",
      " [ 12.9          5.7127321 ]\n",
      " [ 13.           5.3317694 ]\n",
      " [ 13.1          4.7707774 ]\n",
      " [ 13.2          4.2303136 ]\n",
      " [ 13.3          3.9035954 ]\n",
      " [ 13.4          3.9090038 ]\n",
      " [ 13.5          4.2487288 ]\n",
      " [ 13.6          4.8080039 ]\n",
      " [ 13.7          5.3951972 ]\n",
      " [ 13.8          5.8087533 ]\n",
      " [ 13.9          5.9076023 ]\n",
      " [ 14.           5.660439  ]\n",
      " [ 14.1          5.1566584 ]\n",
      " [ 14.2          4.5751275 ]\n",
      " [ 14.3          4.1217012 ]\n",
      " [ 14.4          3.957311  ]\n",
      " [ 14.5          4.1417471 ]\n",
      " [ 14.6          4.6127715 ]\n",
      " [ 14.7          5.2078593 ]\n",
      " [ 14.8          5.720973  ]\n",
      " [ 14.9          5.9745374 ]\n",
      " [ 15.           5.8814716 ]\n",
      " [ 15.1          5.4756083 ]\n",
      " [ 15.2          4.8998752 ]\n",
      " [ 15.3          4.3563664 ]\n",
      " [ 15.4          4.0357444 ]\n",
      " [ 15.5          4.0506367 ]\n",
      " [ 15.6          4.3962913 ]\n",
      " [ 15.7          4.952237  ]\n",
      " [ 15.8          5.5243671 ]\n",
      " [ 15.9          5.9127468 ]\n",
      " [ 16.           5.9814558 ]\n",
      " [ 16.1          5.7060695 ]\n",
      " [ 16.2          5.1821911 ]\n",
      " [ 16.3          4.5920549 ]\n",
      " [ 16.4          4.1408664 ]\n",
      " [ 16.5          3.9851183 ]\n",
      " [ 16.6          4.1779235 ]\n",
      " [ 16.7          4.650461  ]\n",
      " [ 16.8          5.2360174 ]\n",
      " [ 16.9          5.7282246 ]\n",
      " [ 17.           5.9531508 ]\n",
      " [ 17.1          5.8300596 ]\n",
      " [ 17.2          5.3996139 ]\n",
      " [ 17.3          4.8096715 ]\n",
      " [ 17.4          4.2636343 ]\n",
      " [ 17.5          3.9493945 ]\n",
      " [ 17.6          3.9736985 ]\n",
      " [ 17.7          4.3248581 ]\n",
      " [ 17.8          4.8768333 ]\n",
      " [ 17.9          5.4332623 ]\n",
      " [ 18.           5.7960567 ]\n",
      " [ 18.1          5.8345998 ]\n",
      " [ 18.2          5.5313751 ]\n",
      " [ 18.3          4.988086  ]\n",
      " [ 18.4          4.3901277 ]\n",
      " [ 18.5          3.9418246 ]\n",
      " [ 18.6          3.7950534 ]\n",
      " [ 18.7          3.9961897 ]\n",
      " [ 18.8          4.4699073 ]\n",
      " [ 18.9          5.0454927 ]\n",
      " [ 19.           5.5164808 ]\n",
      " [ 19.1          5.7127796 ]\n",
      " [ 19.2          5.5600885 ]\n",
      " [ 19.3          5.1058548 ]\n",
      " [ 19.4          4.5026988 ]\n",
      " [ 19.5          3.9551006 ]\n",
      " [ 19.6          3.6479693 ]\n",
      " [ 19.7          3.6820497 ]\n",
      " [ 19.8          4.0387303 ]\n",
      " [ 19.9          4.5865447 ]\n",
      " [ 20.           5.1270983 ]\n",
      " [ 20.1          5.4643731 ]\n",
      " [ 20.2          5.4732034 ]\n",
      " [ 20.3          5.1430008 ]\n",
      " [ 20.4          4.5814535 ]\n",
      " [ 20.5          3.9769084 ]\n",
      " [ 20.6          3.5325771 ]\n",
      " [ 20.7          3.395549  ]\n",
      " [ 20.8          3.6054095 ]\n",
      " [ 20.9          4.0804126 ]\n",
      " [ 21.           4.6460377 ]\n",
      " [ 21.1          5.0959559 ]\n",
      " [ 21.2          5.2641073 ]\n",
      " [ 21.3          5.0827113 ]\n",
      " [ 21.4          4.6059455 ]\n",
      " [ 21.5          3.9910206 ]\n",
      " [ 21.6          3.443263  ]\n",
      " [ 21.7          3.1443897 ]\n",
      " [ 21.8          3.18903   ]\n",
      " [ 21.9          3.5516699 ]\n",
      " [ 22.           4.0955656 ]\n",
      " [ 22.1          4.6205135 ]\n",
      " [ 22.2          4.9327876 ]\n",
      " [ 22.3          4.912815  ]\n",
      " [ 22.4          4.5569469 ]\n",
      " [ 22.5          3.9787347 ]\n",
      " [ 22.6          3.3692636 ]\n",
      " [ 22.7          2.930403  ]\n",
      " [ 22.8          2.8042882 ]\n",
      " [ 22.9          3.0236697 ]\n",
      " [ 23.           3.5004738 ]\n",
      " [ 23.1          4.0565703 ]\n",
      " [ 23.2          4.4859995 ]\n",
      " [ 23.3          4.6269216 ]\n",
      " [ 23.4          4.4181522 ]\n",
      " [ 23.5          3.9205381 ]\n",
      " [ 23.6          3.2957021 ]\n",
      " [ 23.7          2.749585  ]\n",
      " [ 23.8          2.460506  ]\n",
      " [ 23.9          2.5168717 ]]\n"
     ]
    }
   ],
   "source": [
    "print(dado)"
   ]
  },
  {
   "cell_type": "code",
   "execution_count": 29,
   "metadata": {
    "collapsed": false
   },
   "outputs": [
    {
     "data": {
      "text/plain": [
       "array([[  0.        ,   0.        ],\n",
       "       [  0.1       ,   0.61464164],\n",
       "       [  0.2       ,   1.0320324 ],\n",
       "       [  0.3       ,   1.1238251 ],\n",
       "       [  0.4       ,   0.87540985],\n",
       "       [  0.5       ,   0.39101585],\n",
       "       [  0.6       ,  -0.14270041],\n",
       "       [  0.7       ,  -0.52186154],\n",
       "       [  0.8       ,  -0.59659114],\n",
       "       [  0.9       ,  -0.32337174],\n",
       "       [  1.        ,   0.21975159],\n",
       "       [  1.1       ,   0.86043287],\n",
       "       [  1.2       ,   1.3922289 ],\n",
       "       [  1.3       ,   1.6467141 ],\n",
       "       [  1.4       ,   1.5523145 ],\n",
       "       [  1.5       ,   1.1593091 ],\n",
       "       [  1.6       ,   0.62226425],\n",
       "       [  1.7       ,   0.14603706],\n",
       "       [  1.8       ,  -0.08578836],\n",
       "       [  1.9       ,   0.02496595],\n",
       "       [  2.        ,   0.45677374],\n",
       "       [  2.1       ,   1.0759225 ],\n",
       "       [  2.2       ,   1.6832216 ],\n",
       "       [  2.3       ,   2.0835833 ],\n",
       "       [  2.4       ,   2.1541709 ],\n",
       "       [  2.5       ,   1.8873076 ],\n",
       "       [  2.6       ,   1.3931564 ],\n",
       "       [  2.7       ,   0.8612352 ],\n",
       "       [  2.8       ,   0.49421121],\n",
       "       [  2.9       ,   0.43710175],\n",
       "       [  3.        ,   0.72661379],\n",
       "       [  3.1       ,   1.2783195 ],\n",
       "       [  3.2       ,   1.9161477 ],\n",
       "       [  3.3       ,   2.4338889 ],\n",
       "       [  3.4       ,   2.6672284 ],\n",
       "       [  3.5       ,   2.5511447 ],\n",
       "       [  3.6       ,   2.1426217 ],\n",
       "       [  3.7       ,   1.6007407 ],\n",
       "       [  3.8       ,   1.1311076 ],\n",
       "       [  3.9       ,   0.91402652],\n",
       "       [  4.        ,   1.0415133 ],\n",
       "       [  4.1       ,   1.48515   ],\n",
       "       [  4.2       ,   2.1060103 ],\n",
       "       [  4.3       ,   2.703189  ],\n",
       "       [  4.4       ,   3.0839824 ],\n",
       "       [  4.5       ,   3.1312036 ],\n",
       "       [  4.6       ,   2.8441177 ],\n",
       "       [  4.7       ,   2.3386969 ],\n",
       "       [  4.8       ,   1.8071066 ],\n",
       "       [  4.9       ,   1.4505748 ],\n",
       "       [  5.        ,   1.4090961 ],\n",
       "       [  5.1       ,   1.7125255 ],\n",
       "       [  5.2       ,   2.2701481 ],\n",
       "       [  5.3       ,   2.902367  ],\n",
       "       [  5.4       ,   3.4034394 ],\n",
       "       [  5.5       ,   3.613348  ],\n",
       "       [  5.6       ,   3.4736972 ],\n",
       "       [  5.7       ,   3.0481116 ],\n",
       "       [  5.8       ,   2.5000081 ],\n",
       "       [  5.9       ,   2.0355084 ],\n",
       "       [  6.        ,   1.8314335 ],\n",
       "       [  6.1       ,   1.9735332 ],\n",
       "       [  6.2       ,   2.4265299 ],\n",
       "       [  6.3       ,   3.0464409 ],\n",
       "       [  6.4       ,   3.6308739 ],\n",
       "       [  6.5       ,   3.9897274 ],\n",
       "       [  6.6       ,   4.0115968 ],\n",
       "       [  6.7       ,   3.7026903 ],\n",
       "       [  6.8       ,   3.1846584 ],\n",
       "       [  6.9       ,   2.6520967 ],\n",
       "       [  7.        ,   2.3045669 ],\n",
       "       [  7.1       ,   2.2768823 ],\n",
       "       [  7.2       ,   2.5920127 ],\n",
       "       [  7.3       ,   3.153059  ],\n",
       "       [  7.4       ,   3.7771014 ],\n",
       "       [  7.5       ,   4.2590973 ],\n",
       "       [  7.6       ,   4.4435073 ],\n",
       "       [  7.7       ,   4.2786283 ],\n",
       "       [  7.8       ,   3.8346536 ],\n",
       "       [  7.9       ,   3.2791511 ],\n",
       "       [  8.        ,   2.8185258 ],\n",
       "       [  8.1       ,   2.6259153 ],\n",
       "       [  8.2       ,   2.7807066 ],\n",
       "       [  8.3       ,   3.2408029 ],\n",
       "       [  8.4       ,   3.8573278 ],\n",
       "       [  8.5       ,   4.4266312 ],\n",
       "       [  8.6       ,   4.7614286 ],\n",
       "       [  8.7       ,   4.7562241 ],\n",
       "       [  8.8       ,   4.424162  ],\n",
       "       [  8.9       ,   3.8924338 ],\n",
       "       [  9.        ,   3.3578455 ],\n",
       "       [  9.1       ,   3.0180666 ],\n",
       "       [  9.2       ,   3.0025774 ],\n",
       "       [  9.3       ,   3.3274363 ],\n",
       "       [  9.4       ,   3.8896698 ],\n",
       "       [  9.5       ,   4.5032423 ],\n",
       "       [  9.6       ,   4.9640432 ],\n",
       "       [  9.7       ,   5.1211873 ],\n",
       "       [  9.8       ,   4.9297225 ],\n",
       "       [  9.9       ,   4.4663317 ],\n",
       "       [ 10.        ,   3.9025443 ],\n",
       "       [ 10.1       ,   3.4448153 ],\n",
       "       [ 10.2       ,   3.2624035 ],\n",
       "       [ 10.3       ,   3.4282434 ],\n",
       "       [ 10.4       ,   3.8934667 ],\n",
       "       [ 10.5       ,   4.5044718 ],\n",
       "       [ 10.6       ,   5.0565811 ],\n",
       "       [ 10.7       ,   5.3655393 ],\n",
       "       [ 10.8       ,   5.3318785 ],\n",
       "       [ 10.9       ,   4.9756644 ],\n",
       "       [ 11.        ,   4.4294856 ],\n",
       "       [ 11.1       ,   3.8921364 ],\n",
       "       [ 11.2       ,   3.5591707 ],\n",
       "       [ 11.3       ,   3.5545891 ],\n",
       "       [ 11.4       ,   3.8875211 ],\n",
       "       [ 11.5       ,   4.4490349 ],\n",
       "       [ 11.6       ,   5.05019   ],\n",
       "       [ 11.7       ,   5.4880385 ],\n",
       "       [ 11.8       ,   5.6165203 ],\n",
       "       [ 11.9       ,   5.3974851 ],\n",
       "       [ 12.        ,   4.9140188 ],\n",
       "       [ 12.1       ,   4.3414187 ],\n",
       "       [ 12.2       ,   3.8859563 ],\n",
       "       [ 12.3       ,   3.7128201 ],\n",
       "       [ 12.4       ,   3.8884101 ],\n",
       "       [ 12.5       ,   4.3571415 ],\n",
       "       [ 12.6       ,   4.9608616 ],\n",
       "       [ 12.7       ,   5.4940968 ],\n",
       "       [ 12.8       ,   5.7758294 ],\n",
       "       [ 12.9       ,   5.7127321 ],\n",
       "       [ 13.        ,   5.3317694 ],\n",
       "       [ 13.1       ,   4.7707774 ],\n",
       "       [ 13.2       ,   4.2303136 ],\n",
       "       [ 13.3       ,   3.9035954 ],\n",
       "       [ 13.4       ,   3.9090038 ],\n",
       "       [ 13.5       ,   4.2487288 ],\n",
       "       [ 13.6       ,   4.8080039 ],\n",
       "       [ 13.7       ,   5.3951972 ],\n",
       "       [ 13.8       ,   5.8087533 ],\n",
       "       [ 13.9       ,   5.9076023 ],\n",
       "       [ 14.        ,   5.660439  ],\n",
       "       [ 14.1       ,   5.1566584 ],\n",
       "       [ 14.2       ,   4.5751275 ],\n",
       "       [ 14.3       ,   4.1217012 ],\n",
       "       [ 14.4       ,   3.957311  ],\n",
       "       [ 14.5       ,   4.1417471 ],\n",
       "       [ 14.6       ,   4.6127715 ],\n",
       "       [ 14.7       ,   5.2078593 ],\n",
       "       [ 14.8       ,   5.720973  ],\n",
       "       [ 14.9       ,   5.9745374 ],\n",
       "       [ 15.        ,   5.8814716 ],\n",
       "       [ 15.1       ,   5.4756083 ],\n",
       "       [ 15.2       ,   4.8998752 ],\n",
       "       [ 15.3       ,   4.3563664 ],\n",
       "       [ 15.4       ,   4.0357444 ],\n",
       "       [ 15.5       ,   4.0506367 ],\n",
       "       [ 15.6       ,   4.3962913 ],\n",
       "       [ 15.7       ,   4.952237  ],\n",
       "       [ 15.8       ,   5.5243671 ],\n",
       "       [ 15.9       ,   5.9127468 ],\n",
       "       [ 16.        ,   5.9814558 ],\n",
       "       [ 16.1       ,   5.7060695 ],\n",
       "       [ 16.2       ,   5.1821911 ],\n",
       "       [ 16.3       ,   4.5920549 ],\n",
       "       [ 16.4       ,   4.1408664 ],\n",
       "       [ 16.5       ,   3.9851183 ],\n",
       "       [ 16.6       ,   4.1779235 ],\n",
       "       [ 16.7       ,   4.650461  ],\n",
       "       [ 16.8       ,   5.2360174 ],\n",
       "       [ 16.9       ,   5.7282246 ],\n",
       "       [ 17.        ,   5.9531508 ],\n",
       "       [ 17.1       ,   5.8300596 ],\n",
       "       [ 17.2       ,   5.3996139 ],\n",
       "       [ 17.3       ,   4.8096715 ],\n",
       "       [ 17.4       ,   4.2636343 ],\n",
       "       [ 17.5       ,   3.9493945 ],\n",
       "       [ 17.6       ,   3.9736985 ],\n",
       "       [ 17.7       ,   4.3248581 ],\n",
       "       [ 17.8       ,   4.8768333 ],\n",
       "       [ 17.9       ,   5.4332623 ],\n",
       "       [ 18.        ,   5.7960567 ],\n",
       "       [ 18.1       ,   5.8345998 ],\n",
       "       [ 18.2       ,   5.5313751 ],\n",
       "       [ 18.3       ,   4.988086  ],\n",
       "       [ 18.4       ,   4.3901277 ],\n",
       "       [ 18.5       ,   3.9418246 ],\n",
       "       [ 18.6       ,   3.7950534 ],\n",
       "       [ 18.7       ,   3.9961897 ],\n",
       "       [ 18.8       ,   4.4699073 ],\n",
       "       [ 18.9       ,   5.0454927 ],\n",
       "       [ 19.        ,   5.5164808 ],\n",
       "       [ 19.1       ,   5.7127796 ],\n",
       "       [ 19.2       ,   5.5600885 ],\n",
       "       [ 19.3       ,   5.1058548 ],\n",
       "       [ 19.4       ,   4.5026988 ],\n",
       "       [ 19.5       ,   3.9551006 ],\n",
       "       [ 19.6       ,   3.6479693 ],\n",
       "       [ 19.7       ,   3.6820497 ],\n",
       "       [ 19.8       ,   4.0387303 ],\n",
       "       [ 19.9       ,   4.5865447 ],\n",
       "       [ 20.        ,   5.1270983 ],\n",
       "       [ 20.1       ,   5.4643731 ],\n",
       "       [ 20.2       ,   5.4732034 ],\n",
       "       [ 20.3       ,   5.1430008 ],\n",
       "       [ 20.4       ,   4.5814535 ],\n",
       "       [ 20.5       ,   3.9769084 ],\n",
       "       [ 20.6       ,   3.5325771 ],\n",
       "       [ 20.7       ,   3.395549  ],\n",
       "       [ 20.8       ,   3.6054095 ],\n",
       "       [ 20.9       ,   4.0804126 ],\n",
       "       [ 21.        ,   4.6460377 ],\n",
       "       [ 21.1       ,   5.0959559 ],\n",
       "       [ 21.2       ,   5.2641073 ],\n",
       "       [ 21.3       ,   5.0827113 ],\n",
       "       [ 21.4       ,   4.6059455 ],\n",
       "       [ 21.5       ,   3.9910206 ],\n",
       "       [ 21.6       ,   3.443263  ],\n",
       "       [ 21.7       ,   3.1443897 ],\n",
       "       [ 21.8       ,   3.18903   ],\n",
       "       [ 21.9       ,   3.5516699 ],\n",
       "       [ 22.        ,   4.0955656 ],\n",
       "       [ 22.1       ,   4.6205135 ],\n",
       "       [ 22.2       ,   4.9327876 ],\n",
       "       [ 22.3       ,   4.912815  ],\n",
       "       [ 22.4       ,   4.5569469 ],\n",
       "       [ 22.5       ,   3.9787347 ],\n",
       "       [ 22.6       ,   3.3692636 ],\n",
       "       [ 22.7       ,   2.930403  ],\n",
       "       [ 22.8       ,   2.8042882 ],\n",
       "       [ 22.9       ,   3.0236697 ],\n",
       "       [ 23.        ,   3.5004738 ],\n",
       "       [ 23.1       ,   4.0565703 ],\n",
       "       [ 23.2       ,   4.4859995 ],\n",
       "       [ 23.3       ,   4.6269216 ],\n",
       "       [ 23.4       ,   4.4181522 ],\n",
       "       [ 23.5       ,   3.9205381 ],\n",
       "       [ 23.6       ,   3.2957021 ],\n",
       "       [ 23.7       ,   2.749585  ],\n",
       "       [ 23.8       ,   2.460506  ],\n",
       "       [ 23.9       ,   2.5168717 ]])"
      ]
     },
     "execution_count": 29,
     "metadata": {},
     "output_type": "execute_result"
    }
   ],
   "source": [
    "dado[:]"
   ]
  },
  {
   "cell_type": "code",
   "execution_count": 30,
   "metadata": {
    "collapsed": false,
    "scrolled": true
   },
   "outputs": [
    {
     "data": {
      "text/plain": [
       "array([  0. ,   0.1,   0.2,   0.3,   0.4,   0.5,   0.6,   0.7,   0.8,\n",
       "         0.9,   1. ,   1.1,   1.2,   1.3,   1.4,   1.5,   1.6,   1.7,\n",
       "         1.8,   1.9,   2. ,   2.1,   2.2,   2.3,   2.4,   2.5,   2.6,\n",
       "         2.7,   2.8,   2.9,   3. ,   3.1,   3.2,   3.3,   3.4,   3.5,\n",
       "         3.6,   3.7,   3.8,   3.9,   4. ,   4.1,   4.2,   4.3,   4.4,\n",
       "         4.5,   4.6,   4.7,   4.8,   4.9,   5. ,   5.1,   5.2,   5.3,\n",
       "         5.4,   5.5,   5.6,   5.7,   5.8,   5.9,   6. ,   6.1,   6.2,\n",
       "         6.3,   6.4,   6.5,   6.6,   6.7,   6.8,   6.9,   7. ,   7.1,\n",
       "         7.2,   7.3,   7.4,   7.5,   7.6,   7.7,   7.8,   7.9,   8. ,\n",
       "         8.1,   8.2,   8.3,   8.4,   8.5,   8.6,   8.7,   8.8,   8.9,\n",
       "         9. ,   9.1,   9.2,   9.3,   9.4,   9.5,   9.6,   9.7,   9.8,\n",
       "         9.9,  10. ,  10.1,  10.2,  10.3,  10.4,  10.5,  10.6,  10.7,\n",
       "        10.8,  10.9,  11. ,  11.1,  11.2,  11.3,  11.4,  11.5,  11.6,\n",
       "        11.7,  11.8,  11.9,  12. ,  12.1,  12.2,  12.3,  12.4,  12.5,\n",
       "        12.6,  12.7,  12.8,  12.9,  13. ,  13.1,  13.2,  13.3,  13.4,\n",
       "        13.5,  13.6,  13.7,  13.8,  13.9,  14. ,  14.1,  14.2,  14.3,\n",
       "        14.4,  14.5,  14.6,  14.7,  14.8,  14.9,  15. ,  15.1,  15.2,\n",
       "        15.3,  15.4,  15.5,  15.6,  15.7,  15.8,  15.9,  16. ,  16.1,\n",
       "        16.2,  16.3,  16.4,  16.5,  16.6,  16.7,  16.8,  16.9,  17. ,\n",
       "        17.1,  17.2,  17.3,  17.4,  17.5,  17.6,  17.7,  17.8,  17.9,\n",
       "        18. ,  18.1,  18.2,  18.3,  18.4,  18.5,  18.6,  18.7,  18.8,\n",
       "        18.9,  19. ,  19.1,  19.2,  19.3,  19.4,  19.5,  19.6,  19.7,\n",
       "        19.8,  19.9,  20. ,  20.1,  20.2,  20.3,  20.4,  20.5,  20.6,\n",
       "        20.7,  20.8,  20.9,  21. ,  21.1,  21.2,  21.3,  21.4,  21.5,\n",
       "        21.6,  21.7,  21.8,  21.9,  22. ,  22.1,  22.2,  22.3,  22.4,\n",
       "        22.5,  22.6,  22.7,  22.8,  22.9,  23. ,  23.1,  23.2,  23.3,\n",
       "        23.4,  23.5,  23.6,  23.7,  23.8,  23.9])"
      ]
     },
     "execution_count": 30,
     "metadata": {},
     "output_type": "execute_result"
    }
   ],
   "source": [
    "dado[:,0]"
   ]
  },
  {
   "cell_type": "code",
   "execution_count": 31,
   "metadata": {
    "collapsed": false
   },
   "outputs": [
    {
     "data": {
      "text/plain": [
       "array([[ 0.3      ,  1.1238251]])"
      ]
     },
     "execution_count": 31,
     "metadata": {},
     "output_type": "execute_result"
    }
   ],
   "source": [
    "dado[3:4]"
   ]
  },
  {
   "cell_type": "markdown",
   "metadata": {},
   "source": []
  },
  {
   "cell_type": "code",
   "execution_count": 32,
   "metadata": {
    "collapsed": true
   },
   "outputs": [],
   "source": [
    "tempos = dado[:,0]"
   ]
  },
  {
   "cell_type": "code",
   "execution_count": 33,
   "metadata": {
    "collapsed": true
   },
   "outputs": [],
   "source": [
    "maré = dado[:,1]"
   ]
  },
  {
   "cell_type": "code",
   "execution_count": 34,
   "metadata": {
    "collapsed": true
   },
   "outputs": [],
   "source": [
    "%matplotlib inline\n",
    "import matplotlib.pyplot as plt\n",
    "import numpy as np"
   ]
  },
  {
   "cell_type": "code",
   "execution_count": 43,
   "metadata": {
    "collapsed": false
   },
   "outputs": [
    {
     "data": {
      "image/png": "[encoded data removed]",
      "text/plain": [
       "<matplotlib.figure.Figure at 0x1d79bb31ac8>"
      ]
     },
     "metadata": {},
     "output_type": "display_data"
    }
   ],
   "source": [
    "plt.plot(tempos,maré)\n",
    "plt.xlabel('Tempo')\n",
    "plt.ylabel('Maré')\n",
    "plt.title('Maré de Mentiras')\n",
    "plt.savefig('maré.jpg')"
   ]
  },
  {
   "cell_type": "code",
   "execution_count": 44,
   "metadata": {
    "collapsed": false
   },
   "outputs": [
    {
     "data": {
      "text/plain": [
       "7.782197383491666"
      ]
     },
     "execution_count": 44,
     "metadata": {},
     "output_type": "execute_result"
    }
   ],
   "source": [
    "numpy.mean(dado)"
   ]
  },
  {
   "cell_type": "code",
   "execution_count": 46,
   "metadata": {
    "collapsed": false
   },
   "outputs": [
    {
     "data": {
      "text/plain": [
       "6.5274537343781107"
      ]
     },
     "execution_count": 46,
     "metadata": {},
     "output_type": "execute_result"
    }
   ],
   "source": [
    "numpy.std(dado)"
   ]
  },
  {
   "cell_type": "code",
   "execution_count": null,
   "metadata": {
    "collapsed": true
   },
   "outputs": [],
   "source": []
  }
 ],
 "metadata": {
  "kernelspec": {
   "display_name": "Python [Root]",
   "language": "python",
   "name": "Python [Root]"
  },
  "language_info": {
   "codemirror_mode": {
    "name": "ipython",
    "version": 3
   },
   "file_extension": ".py",
   "mimetype": "text/x-python",
   "name": "python",
   "nbconvert_exporter": "python",
   "pygments_lexer": "ipython3",
   "version": "3.5.2"
  }
 },
 "nbformat": 4,
 "nbformat_minor": 0
}
